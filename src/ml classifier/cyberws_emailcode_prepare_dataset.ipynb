{
 "cells": [
  {
   "cell_type": "markdown",
   "metadata": {},
   "source": [
    "# NL / C code - Notebook 1"
   ]
  },
  {
   "cell_type": "markdown",
   "metadata": {},
   "source": [
    "## imports"
   ]
  },
  {
   "cell_type": "code",
   "execution_count": 1,
   "metadata": {},
   "outputs": [],
   "source": [
    "import pandas as pd\n",
    "import numpy as np\n",
    "from IPython.display import display\n",
    "import matplotlib.pyplot as plt\n",
    "import re\n"
   ]
  },
  {
   "cell_type": "code",
   "execution_count": 2,
   "metadata": {},
   "outputs": [],
   "source": [
    "# Plot display tweaks\n",
    "\n",
    "#plt.figure(figsize=(10, 5), dpi=200)"
   ]
  },
  {
   "cell_type": "markdown",
   "metadata": {},
   "source": [
    "\n",
    "# Codes dataset fix"
   ]
  },
  {
   "cell_type": "markdown",
   "metadata": {},
   "source": [
    "## convert & fix codes dataset - gzip json to csv"
   ]
  },
  {
   "cell_type": "code",
   "execution_count": 3,
   "metadata": {
    "scrolled": true
   },
   "outputs": [],
   "source": [
    "\n",
    "#  The json gzip ds has a known built-in bad crc at ~270k sample.\n",
    "#  batch convert the valid part to csv\n",
    "#  the error at ~270k is ok\n",
    "#  section function commented out after the new csv is ready. \n",
    "\n",
    "# https://stackoverflow.com/questions/33504424/\n",
    "# https://stackoverflow.com/questions/6377454\n",
    "\n",
    "# scraper used this tokenizer:\n",
    "# https://github.com/alexeygrigorev/projects/blob/master/codeforces-crawl/src/main/java/com/alexeygrigorev/codeforcescrawl/BowFeatureExtractor.java\n",
    "# numbers: -NUMBER- | whitespaces:  ', ' | words: A-Z a-z _ #  | seps: - . 0 ' '\n",
    "\n",
    "import gzip\n",
    "import json\n",
    "\n",
    "def RepresentsInt(s):\n",
    "    try: \n",
    "        int(s)\n",
    "        return True\n",
    "    except ValueError:\n",
    "        return False\n",
    "\n",
    "\n",
    "def transDBToCSV():\n",
    "  \n",
    "    # setup converted tokens rules\n",
    "    #  can make any tokenization changes / adjustments here\n",
    "    #  note: u = unicode, string encoding declarations\n",
    "    tk_clean_list = ['*', ' ', '',',']\n",
    "    tokens_norm = {'-NUMBER-' : '#LONGNUM#'} \n",
    "    langs_norm = {'GNU C++': u'C/C++', 'GNU C++11': u'C/C++', 'MS C++': u'C/C++', 'GNU C': u'C/C++', 'GNU C11': u'C/C++',\n",
    "               'Java 8': u'Java', 'Java 7': u'Java', \n",
    "               'Python 3': u'Python', 'Python 2': u'Python', 'PyPy 2': u'Python', 'PyPy 3': u'Python',\n",
    "               'FPC': u'Pascal', 'Delphi': u'Pascal',\n",
    "               'MS C#': u'C#', 'Mono C#': u'C#' }\n",
    "    \n",
    "    # conversion buffers - json to csv\n",
    "    DATA_FILENAME = 'src_code_ds/codes_refined_csv3.csv'\n",
    "    entries_buf = []\n",
    "    df_buf = pd.DataFrame(columns=['id', 'lang', 'source'])\n",
    "    df_buf.set_index('id', inplace=True)\n",
    "    \n",
    "    # setup output file\n",
    "    with open(DATA_FILENAME, mode='w+', encoding='utf-8') as f:\n",
    "        df_buf.to_csv(f, mode='w+', index=True, header=True)\n",
    "        print('file reset.')\n",
    "    \n",
    "    # load json ds\n",
    "    codes_json = gzip.open('src_code_ds/itshared_dataset/out.json.gz', mode='r')\n",
    "    #test\n",
    "    #jentry = json.loads(codes_json.readline())\n",
    "    #jentry['source']\n",
    "    #print(jentry)\n",
    "    \n",
    "    # convert by batches\n",
    "    i = 0\n",
    "    print('converting...')\n",
    "    for entry_raw in codes_json:\n",
    "        #print(entry_raw)\n",
    "        entry_dict = json.loads(entry_raw)\n",
    "    \n",
    "        # submission id\n",
    "        sid = entry_dict['submission_id'] \n",
    "        sid = sid if RepresentsInt(sid) else 'bad' + str(sid)\n",
    "        \n",
    "        # lang\n",
    "        lang = entry_dict['language']\n",
    "        lang = langs_norm[lang] if lang in langs_norm else (lang)\n",
    "        \n",
    "        # source\n",
    "        src = entry_dict['source']; \n",
    "        src = [elm.strip() for elm in src if (elm and elm.strip() not in tk_clean_list)]\n",
    "        src = [(tokens_norm[tk] if tk in tokens_norm else tk) for tk in src]\n",
    "        # save src as space seperated UTF string\n",
    "        src = ' '.join(src) #.encode(encoding='utf-8',errors='strict')\n",
    "        \n",
    "        # cnt\n",
    "        i = i+1\n",
    "        \n",
    "        # error filtering\n",
    "        if i==114330 : # skip a space str based storage problematic entry\n",
    "            print('---- dropping problematic entry:',entry_raw)\n",
    "            continue\n",
    "        if src == None or src == '':\n",
    "            print('---- dropping empty entry:',entry_raw)\n",
    "            continue\n",
    "            \n",
    "        \n",
    "        # append to entries (as dict)\n",
    "        entries_buf.append({'id':sid,'lang':lang,'source':src})\n",
    "        \n",
    "        # batch dump to file\n",
    "        if i % 10000 == 0:\n",
    "            #dump to file\n",
    "            print('total entries:', i, '  |  current batch:', len(entries_buf))\n",
    "            print('sample src:', src[:50])\n",
    "            df_buf = pd.concat([pd.DataFrame([ent]) for ent in entries_buf])\n",
    "            #display(df_buf)\n",
    "            #print('\\n\\n')\n",
    "\n",
    "            with open(DATA_FILENAME, mode='a', encoding='utf-8') as f:\n",
    "                df_buf.to_csv(f, mode='a', index=False, header=False)\n",
    "            entries_buf = []\n",
    "            df_buf = df_buf.iloc[0:0]\n",
    "            \n",
    "        if i >= 120000:\n",
    "            pass\n",
    "            #break\n",
    "\n",
    "    print('\\n\\n Done! Use csv and comment out')\n",
    "            \n",
    "#transDBToCSV()\n"
   ]
  },
  {
   "cell_type": "markdown",
   "metadata": {},
   "source": [
    "# Datasets : load and review - emails and codes"
   ]
  },
  {
   "cell_type": "markdown",
   "metadata": {},
   "source": [
    "## -- load emails ds --"
   ]
  },
  {
   "cell_type": "code",
   "execution_count": 4,
   "metadata": {
    "scrolled": true
   },
   "outputs": [
    {
     "name": "stdout",
     "output_type": "stream",
     "text": [
      "loaded df ernon emails: (517401, 2)\n"
     ]
    }
   ],
   "source": [
    "\n",
    "# -- load emails ds --\n",
    "\n",
    "df_ernon = pd.read_csv('email_ds/ernon/enron_emails_kagle.csv')\n",
    "print('loaded df ernon emails: {}'.format(df_ernon.shape))\n"
   ]
  },
  {
   "cell_type": "code",
   "execution_count": 5,
   "metadata": {},
   "outputs": [
    {
     "data": {
      "text/html": [
       "<div>\n",
       "<style scoped>\n",
       "    .dataframe tbody tr th:only-of-type {\n",
       "        vertical-align: middle;\n",
       "    }\n",
       "\n",
       "    .dataframe tbody tr th {\n",
       "        vertical-align: top;\n",
       "    }\n",
       "\n",
       "    .dataframe thead th {\n",
       "        text-align: right;\n",
       "    }\n",
       "</style>\n",
       "<table border=\"1\" class=\"dataframe\">\n",
       "  <thead>\n",
       "    <tr style=\"text-align: right;\">\n",
       "      <th></th>\n",
       "      <th>file</th>\n",
       "      <th>message</th>\n",
       "    </tr>\n",
       "  </thead>\n",
       "  <tbody>\n",
       "    <tr>\n",
       "      <th>517396</th>\n",
       "      <td>zufferli-j/sent_items/95.</td>\n",
       "      <td>Message-ID: &lt;26807948.1075842029936.JavaMail.e...</td>\n",
       "    </tr>\n",
       "    <tr>\n",
       "      <th>517397</th>\n",
       "      <td>zufferli-j/sent_items/96.</td>\n",
       "      <td>Message-ID: &lt;25835861.1075842029959.JavaMail.e...</td>\n",
       "    </tr>\n",
       "    <tr>\n",
       "      <th>517398</th>\n",
       "      <td>zufferli-j/sent_items/97.</td>\n",
       "      <td>Message-ID: &lt;28979867.1075842029988.JavaMail.e...</td>\n",
       "    </tr>\n",
       "    <tr>\n",
       "      <th>517399</th>\n",
       "      <td>zufferli-j/sent_items/98.</td>\n",
       "      <td>Message-ID: &lt;22052556.1075842030013.JavaMail.e...</td>\n",
       "    </tr>\n",
       "    <tr>\n",
       "      <th>517400</th>\n",
       "      <td>zufferli-j/sent_items/99.</td>\n",
       "      <td>Message-ID: &lt;28618979.1075842030037.JavaMail.e...</td>\n",
       "    </tr>\n",
       "  </tbody>\n",
       "</table>\n",
       "</div>"
      ],
      "text/plain": [
       "                             file  \\\n",
       "517396  zufferli-j/sent_items/95.   \n",
       "517397  zufferli-j/sent_items/96.   \n",
       "517398  zufferli-j/sent_items/97.   \n",
       "517399  zufferli-j/sent_items/98.   \n",
       "517400  zufferli-j/sent_items/99.   \n",
       "\n",
       "                                                  message  \n",
       "517396  Message-ID: <26807948.1075842029936.JavaMail.e...  \n",
       "517397  Message-ID: <25835861.1075842029959.JavaMail.e...  \n",
       "517398  Message-ID: <28979867.1075842029988.JavaMail.e...  \n",
       "517399  Message-ID: <22052556.1075842030013.JavaMail.e...  \n",
       "517400  Message-ID: <28618979.1075842030037.JavaMail.e...  "
      ]
     },
     "metadata": {},
     "output_type": "display_data"
    }
   ],
   "source": [
    "# quick review\n",
    "\n",
    "display(df_ernon.tail(5))"
   ]
  },
  {
   "cell_type": "code",
   "execution_count": 6,
   "metadata": {},
   "outputs": [
    {
     "data": {
      "text/html": [
       "<div>\n",
       "<style scoped>\n",
       "    .dataframe tbody tr th:only-of-type {\n",
       "        vertical-align: middle;\n",
       "    }\n",
       "\n",
       "    .dataframe tbody tr th {\n",
       "        vertical-align: top;\n",
       "    }\n",
       "\n",
       "    .dataframe thead th {\n",
       "        text-align: right;\n",
       "    }\n",
       "</style>\n",
       "<table border=\"1\" class=\"dataframe\">\n",
       "  <thead>\n",
       "    <tr style=\"text-align: right;\">\n",
       "      <th></th>\n",
       "      <th>file</th>\n",
       "      <th>message</th>\n",
       "      <th>body</th>\n",
       "    </tr>\n",
       "  </thead>\n",
       "  <tbody>\n",
       "    <tr>\n",
       "      <th>517397</th>\n",
       "      <td>zufferli-j/sent_items/96.</td>\n",
       "      <td>Message-ID: &lt;25835861.1075842029959.JavaMail.e...</td>\n",
       "      <td>some of my position is with the alberta term b...</td>\n",
       "    </tr>\n",
       "    <tr>\n",
       "      <th>517398</th>\n",
       "      <td>zufferli-j/sent_items/97.</td>\n",
       "      <td>Message-ID: &lt;28979867.1075842029988.JavaMail.e...</td>\n",
       "      <td>2\\n\\n -----original message-----\\nfrom: \\tdouc...</td>\n",
       "    </tr>\n",
       "    <tr>\n",
       "      <th>517399</th>\n",
       "      <td>zufferli-j/sent_items/98.</td>\n",
       "      <td>Message-ID: &lt;22052556.1075842030013.JavaMail.e...</td>\n",
       "      <td>analyst\\t\\t\\t\\t\\trank\\n\\nstephane brodeur\\t\\t\\...</td>\n",
       "    </tr>\n",
       "    <tr>\n",
       "      <th>517400</th>\n",
       "      <td>zufferli-j/sent_items/99.</td>\n",
       "      <td>Message-ID: &lt;28618979.1075842030037.JavaMail.e...</td>\n",
       "      <td>i think the ymca has a class that is for peopl...</td>\n",
       "    </tr>\n",
       "  </tbody>\n",
       "</table>\n",
       "</div>"
      ],
      "text/plain": [
       "                             file  \\\n",
       "517397  zufferli-j/sent_items/96.   \n",
       "517398  zufferli-j/sent_items/97.   \n",
       "517399  zufferli-j/sent_items/98.   \n",
       "517400  zufferli-j/sent_items/99.   \n",
       "\n",
       "                                                  message  \\\n",
       "517397  Message-ID: <25835861.1075842029959.JavaMail.e...   \n",
       "517398  Message-ID: <28979867.1075842029988.JavaMail.e...   \n",
       "517399  Message-ID: <22052556.1075842030013.JavaMail.e...   \n",
       "517400  Message-ID: <28618979.1075842030037.JavaMail.e...   \n",
       "\n",
       "                                                     body  \n",
       "517397  some of my position is with the alberta term b...  \n",
       "517398  2\\n\\n -----original message-----\\nfrom: \\tdouc...  \n",
       "517399  analyst\\t\\t\\t\\t\\trank\\n\\nstephane brodeur\\t\\t\\...  \n",
       "517400  i think the ymca has a class that is for peopl...  "
      ]
     },
     "metadata": {},
     "output_type": "display_data"
    }
   ],
   "source": [
    "# -- msg body extraction --\n",
    "\n",
    "# extracts ernon mail body in lowercase\n",
    "def msgContentExtractor(msg):\n",
    "\n",
    "    pattern = '\\n\\n'\n",
    "    pat_occur = 1\n",
    "\n",
    "    i = 0\n",
    "    for match in re.finditer(pattern, msg):\n",
    "        if match:\n",
    "            i = i+1\n",
    "            if i == pat_occur:\n",
    "                return msg[match.start()+2:].lower()\n",
    "        else:\n",
    "            print('problem with match for msg: ',msg[0:30])\n",
    "\n",
    "# test extractor on a msg\n",
    "def test_extractor():\n",
    "    k = 40\n",
    "    msg = df_ernon['message'][k]\n",
    "    #print(msg)\n",
    "    print('\\n\\n')\n",
    "    print('============ excerpt test of a msg body =========')\n",
    "    print(msgContentExtractor(msg))\n",
    "#test_extractor()\n",
    "\n",
    "\n",
    "# extract for entire df\n",
    "df_ernon['body'] =  df_ernon['message'].apply(msgContentExtractor)\n",
    "display(df_ernon.tail(4))\n"
   ]
  },
  {
   "cell_type": "markdown",
   "metadata": {},
   "source": [
    "## -- load codes ds --"
   ]
  },
  {
   "cell_type": "code",
   "execution_count": 7,
   "metadata": {},
   "outputs": [
    {
     "name": "stdout",
     "output_type": "stream",
     "text": [
      "loaded df src_code_ds: (269871, 3)\n"
     ]
    }
   ],
   "source": [
    "# -- load codes ds --\n",
    "\n",
    "df_codes = pd.read_csv('src_code_ds/codes_refined_csv3.csv', \\\n",
    "                       dtype={'id':np.int64, 'lang':'str', 'source': 'str'}) \n",
    "print('loaded df src_code_ds: {}'.format(df_codes.shape))"
   ]
  },
  {
   "cell_type": "code",
   "execution_count": 8,
   "metadata": {},
   "outputs": [
    {
     "name": "stdout",
     "output_type": "stream",
     "text": [
      "sample entries:\n",
      "====================\n"
     ]
    },
    {
     "data": {
      "text/html": [
       "<div>\n",
       "<style scoped>\n",
       "    .dataframe tbody tr th:only-of-type {\n",
       "        vertical-align: middle;\n",
       "    }\n",
       "\n",
       "    .dataframe tbody tr th {\n",
       "        vertical-align: top;\n",
       "    }\n",
       "\n",
       "    .dataframe thead th {\n",
       "        text-align: right;\n",
       "    }\n",
       "</style>\n",
       "<table border=\"1\" class=\"dataframe\">\n",
       "  <thead>\n",
       "    <tr style=\"text-align: right;\">\n",
       "      <th></th>\n",
       "      <th>id</th>\n",
       "      <th>lang</th>\n",
       "      <th>source</th>\n",
       "    </tr>\n",
       "  </thead>\n",
       "  <tbody>\n",
       "    <tr>\n",
       "      <th>0</th>\n",
       "      <td>12746065</td>\n",
       "      <td>C/C++</td>\n",
       "      <td>Author : Yash Sadhwani #include &lt; stdio . h &gt; ...</td>\n",
       "    </tr>\n",
       "    <tr>\n",
       "      <th>1</th>\n",
       "      <td>12746876</td>\n",
       "      <td>C/C++</td>\n",
       "      <td>&lt; iostream &gt; using namespace std ; int n ; int...</td>\n",
       "    </tr>\n",
       "    <tr>\n",
       "      <th>2</th>\n",
       "      <td>12747297</td>\n",
       "      <td>C/C++</td>\n",
       "      <td>&lt; iostream &gt; #include &lt; sstream &gt; #include &lt; f...</td>\n",
       "    </tr>\n",
       "  </tbody>\n",
       "</table>\n",
       "</div>"
      ],
      "text/plain": [
       "         id   lang                                             source\n",
       "0  12746065  C/C++  Author : Yash Sadhwani #include < stdio . h > ...\n",
       "1  12746876  C/C++  < iostream > using namespace std ; int n ; int...\n",
       "2  12747297  C/C++  < iostream > #include < sstream > #include < f..."
      ]
     },
     "metadata": {},
     "output_type": "display_data"
    },
    {
     "data": {
      "text/html": [
       "<div>\n",
       "<style scoped>\n",
       "    .dataframe tbody tr th:only-of-type {\n",
       "        vertical-align: middle;\n",
       "    }\n",
       "\n",
       "    .dataframe tbody tr th {\n",
       "        vertical-align: top;\n",
       "    }\n",
       "\n",
       "    .dataframe thead th {\n",
       "        text-align: right;\n",
       "    }\n",
       "</style>\n",
       "<table border=\"1\" class=\"dataframe\">\n",
       "  <thead>\n",
       "    <tr style=\"text-align: right;\">\n",
       "      <th></th>\n",
       "      <th>id</th>\n",
       "      <th>lang</th>\n",
       "      <th>source</th>\n",
       "    </tr>\n",
       "  </thead>\n",
       "  <tbody>\n",
       "    <tr>\n",
       "      <th>269868</th>\n",
       "      <td>13964931</td>\n",
       "      <td>C/C++</td>\n",
       "      <td>&lt; bits using namespace std ; int main ( ) { lo...</td>\n",
       "    </tr>\n",
       "    <tr>\n",
       "      <th>269869</th>\n",
       "      <td>13964942</td>\n",
       "      <td>C/C++</td>\n",
       "      <td>&lt; iostream &gt; #include &lt; stdio . h &gt; #include &lt;...</td>\n",
       "    </tr>\n",
       "    <tr>\n",
       "      <th>269870</th>\n",
       "      <td>13964948</td>\n",
       "      <td>C/C++</td>\n",
       "      <td>&lt; stdio . h &gt; #include &lt; string . h &gt; #include...</td>\n",
       "    </tr>\n",
       "  </tbody>\n",
       "</table>\n",
       "</div>"
      ],
      "text/plain": [
       "              id   lang                                             source\n",
       "269868  13964931  C/C++  < bits using namespace std ; int main ( ) { lo...\n",
       "269869  13964942  C/C++  < iostream > #include < stdio . h > #include <...\n",
       "269870  13964948  C/C++  < stdio . h > #include < string . h > #include..."
      ]
     },
     "metadata": {},
     "output_type": "display_data"
    },
    {
     "name": "stdout",
     "output_type": "stream",
     "text": [
      "excerpt from a src: < vector > using namespace std ; const int nmax = #LONGNUM# ; int a [ nmax + #LO \n",
      "\n",
      "\n",
      "data types:\n",
      "====================\n"
     ]
    },
    {
     "data": {
      "text/plain": [
       "id         int64\n",
       "lang      object\n",
       "source    object\n",
       "dtype: object"
      ]
     },
     "metadata": {},
     "output_type": "display_data"
    },
    {
     "name": "stdout",
     "output_type": "stream",
     "text": [
      "Null values check:\n",
      "====================\n"
     ]
    },
    {
     "data": {
      "text/plain": [
       "source    0\n",
       "lang      0\n",
       "id        0\n",
       "dtype: int64"
      ]
     },
     "metadata": {},
     "output_type": "display_data"
    },
    {
     "name": "stdout",
     "output_type": "stream",
     "text": [
      "value counts: 269871\n",
      "====================\n",
      "C/C++         240942\n",
      "Java           14852\n",
      "Python          7150\n",
      "Pascal          3688\n",
      "C#              1505\n",
      "Scala            377\n",
      "Haskell          363\n",
      "Ruby             318\n",
      "JavaScript       147\n",
      "PHP              147\n",
      "Perl             143\n",
      "Go               142\n",
      "Ocaml             63\n",
      "D                 34\n",
      "Name: lang, dtype: int64\n"
     ]
    },
    {
     "data": {
      "image/png": "[encoded data removed]",
      "text/plain": [
       "<Figure size 432x288 with 1 Axes>"
      ]
     },
     "metadata": {},
     "output_type": "display_data"
    }
   ],
   "source": [
    "# quick review \n",
    "\n",
    "\n",
    "print('sample entries:\\n====================')\n",
    "display(df_codes.head(3))\n",
    "display(df_codes.tail(3))\n",
    "print('excerpt from a src:',df_codes['source'][100][20:100],'\\n\\n')\n",
    "\n",
    "\n",
    "print('data types:\\n====================')\n",
    "display(df_codes.dtypes)\n",
    "\n",
    "print('Null values check:\\n====================')\n",
    "display(df_codes.isnull().sum().sort_values(ascending=False))\n",
    "\n",
    "\n",
    "\n",
    "#display(df_codes['lang'])\n",
    "valc = df_codes['lang'].value_counts()\n",
    "print('value counts: {}\\n====================\\n{}'.format(valc.sum(), valc))\n",
    "\n",
    "df_codes['lang'].value_counts().plot(kind='bar', log='true')\n",
    "plt.xticks(rotation='vertical')\n",
    "plt.tight_layout()\n",
    "plt.show()\n"
   ]
  },
  {
   "cell_type": "markdown",
   "metadata": {},
   "source": [
    "# Datasets : combine and save complete"
   ]
  },
  {
   "cell_type": "code",
   "execution_count": 9,
   "metadata": {},
   "outputs": [
    {
     "name": "stdout",
     "output_type": "stream",
     "text": [
      "Arranging dataframes:\n",
      "===========================\n"
     ]
    },
    {
     "data": {
      "text/html": [
       "<div>\n",
       "<style scoped>\n",
       "    .dataframe tbody tr th:only-of-type {\n",
       "        vertical-align: middle;\n",
       "    }\n",
       "\n",
       "    .dataframe tbody tr th {\n",
       "        vertical-align: top;\n",
       "    }\n",
       "\n",
       "    .dataframe thead th {\n",
       "        text-align: right;\n",
       "    }\n",
       "</style>\n",
       "<table border=\"1\" class=\"dataframe\">\n",
       "  <thead>\n",
       "    <tr style=\"text-align: right;\">\n",
       "      <th></th>\n",
       "      <th>file</th>\n",
       "      <th>message</th>\n",
       "      <th>body</th>\n",
       "    </tr>\n",
       "  </thead>\n",
       "  <tbody>\n",
       "    <tr>\n",
       "      <th>517399</th>\n",
       "      <td>zufferli-j/sent_items/98.</td>\n",
       "      <td>Message-ID: &lt;22052556.1075842030013.JavaMail.e...</td>\n",
       "      <td>analyst\\t\\t\\t\\t\\trank\\n\\nstephane brodeur\\t\\t\\...</td>\n",
       "    </tr>\n",
       "    <tr>\n",
       "      <th>517400</th>\n",
       "      <td>zufferli-j/sent_items/99.</td>\n",
       "      <td>Message-ID: &lt;28618979.1075842030037.JavaMail.e...</td>\n",
       "      <td>i think the ymca has a class that is for peopl...</td>\n",
       "    </tr>\n",
       "  </tbody>\n",
       "</table>\n",
       "</div>"
      ],
      "text/plain": [
       "                             file  \\\n",
       "517399  zufferli-j/sent_items/98.   \n",
       "517400  zufferli-j/sent_items/99.   \n",
       "\n",
       "                                                  message  \\\n",
       "517399  Message-ID: <22052556.1075842030013.JavaMail.e...   \n",
       "517400  Message-ID: <28618979.1075842030037.JavaMail.e...   \n",
       "\n",
       "                                                     body  \n",
       "517399  analyst\\t\\t\\t\\t\\trank\\n\\nstephane brodeur\\t\\t\\...  \n",
       "517400  i think the ymca has a class that is for peopl...  "
      ]
     },
     "metadata": {},
     "output_type": "display_data"
    },
    {
     "data": {
      "text/html": [
       "<div>\n",
       "<style scoped>\n",
       "    .dataframe tbody tr th:only-of-type {\n",
       "        vertical-align: middle;\n",
       "    }\n",
       "\n",
       "    .dataframe tbody tr th {\n",
       "        vertical-align: top;\n",
       "    }\n",
       "\n",
       "    .dataframe thead th {\n",
       "        text-align: right;\n",
       "    }\n",
       "</style>\n",
       "<table border=\"1\" class=\"dataframe\">\n",
       "  <thead>\n",
       "    <tr style=\"text-align: right;\">\n",
       "      <th></th>\n",
       "      <th>id</th>\n",
       "      <th>lang</th>\n",
       "      <th>source</th>\n",
       "    </tr>\n",
       "  </thead>\n",
       "  <tbody>\n",
       "    <tr>\n",
       "      <th>269869</th>\n",
       "      <td>13964942</td>\n",
       "      <td>C/C++</td>\n",
       "      <td>&lt; iostream &gt; #include &lt; stdio . h &gt; #include &lt;...</td>\n",
       "    </tr>\n",
       "    <tr>\n",
       "      <th>269870</th>\n",
       "      <td>13964948</td>\n",
       "      <td>C/C++</td>\n",
       "      <td>&lt; stdio . h &gt; #include &lt; string . h &gt; #include...</td>\n",
       "    </tr>\n",
       "  </tbody>\n",
       "</table>\n",
       "</div>"
      ],
      "text/plain": [
       "              id   lang                                             source\n",
       "269869  13964942  C/C++  < iostream > #include < stdio . h > #include <...\n",
       "269870  13964948  C/C++  < stdio . h > #include < string . h > #include..."
      ]
     },
     "metadata": {},
     "output_type": "display_data"
    },
    {
     "data": {
      "text/html": [
       "<div>\n",
       "<style scoped>\n",
       "    .dataframe tbody tr th:only-of-type {\n",
       "        vertical-align: middle;\n",
       "    }\n",
       "\n",
       "    .dataframe tbody tr th {\n",
       "        vertical-align: top;\n",
       "    }\n",
       "\n",
       "    .dataframe thead th {\n",
       "        text-align: right;\n",
       "    }\n",
       "</style>\n",
       "<table border=\"1\" class=\"dataframe\">\n",
       "  <thead>\n",
       "    <tr style=\"text-align: right;\">\n",
       "      <th></th>\n",
       "      <th>id</th>\n",
       "      <th>text</th>\n",
       "      <th>lang</th>\n",
       "    </tr>\n",
       "  </thead>\n",
       "  <tbody>\n",
       "    <tr>\n",
       "      <th>517397</th>\n",
       "      <td>zufferli-j/sent_items/96.</td>\n",
       "      <td>some of my position is with the alberta term b...</td>\n",
       "      <td>NL</td>\n",
       "    </tr>\n",
       "    <tr>\n",
       "      <th>517398</th>\n",
       "      <td>zufferli-j/sent_items/97.</td>\n",
       "      <td>2\\n\\n -----original message-----\\nfrom: \\tdouc...</td>\n",
       "      <td>NL</td>\n",
       "    </tr>\n",
       "    <tr>\n",
       "      <th>517399</th>\n",
       "      <td>zufferli-j/sent_items/98.</td>\n",
       "      <td>analyst\\t\\t\\t\\t\\trank\\n\\nstephane brodeur\\t\\t\\...</td>\n",
       "      <td>NL</td>\n",
       "    </tr>\n",
       "    <tr>\n",
       "      <th>517400</th>\n",
       "      <td>zufferli-j/sent_items/99.</td>\n",
       "      <td>i think the ymca has a class that is for peopl...</td>\n",
       "      <td>NL</td>\n",
       "    </tr>\n",
       "  </tbody>\n",
       "</table>\n",
       "</div>"
      ],
      "text/plain": [
       "                               id  \\\n",
       "517397  zufferli-j/sent_items/96.   \n",
       "517398  zufferli-j/sent_items/97.   \n",
       "517399  zufferli-j/sent_items/98.   \n",
       "517400  zufferli-j/sent_items/99.   \n",
       "\n",
       "                                                     text lang  \n",
       "517397  some of my position is with the alberta term b...   NL  \n",
       "517398  2\\n\\n -----original message-----\\nfrom: \\tdouc...   NL  \n",
       "517399  analyst\\t\\t\\t\\t\\trank\\n\\nstephane brodeur\\t\\t\\...   NL  \n",
       "517400  i think the ymca has a class that is for peopl...   NL  "
      ]
     },
     "metadata": {},
     "output_type": "display_data"
    },
    {
     "data": {
      "text/html": [
       "<div>\n",
       "<style scoped>\n",
       "    .dataframe tbody tr th:only-of-type {\n",
       "        vertical-align: middle;\n",
       "    }\n",
       "\n",
       "    .dataframe tbody tr th {\n",
       "        vertical-align: top;\n",
       "    }\n",
       "\n",
       "    .dataframe thead th {\n",
       "        text-align: right;\n",
       "    }\n",
       "</style>\n",
       "<table border=\"1\" class=\"dataframe\">\n",
       "  <thead>\n",
       "    <tr style=\"text-align: right;\">\n",
       "      <th></th>\n",
       "      <th>id</th>\n",
       "      <th>lang</th>\n",
       "      <th>text</th>\n",
       "    </tr>\n",
       "  </thead>\n",
       "  <tbody>\n",
       "    <tr>\n",
       "      <th>269867</th>\n",
       "      <td>13964927</td>\n",
       "      <td>C/C++</td>\n",
       "      <td>&lt; stdio . h &gt; int n t a [ #LONGNUM# ] sum = #L...</td>\n",
       "    </tr>\n",
       "    <tr>\n",
       "      <th>269868</th>\n",
       "      <td>13964931</td>\n",
       "      <td>C/C++</td>\n",
       "      <td>&lt; bits using namespace std ; int main ( ) { lo...</td>\n",
       "    </tr>\n",
       "    <tr>\n",
       "      <th>269869</th>\n",
       "      <td>13964942</td>\n",
       "      <td>C/C++</td>\n",
       "      <td>&lt; iostream &gt; #include &lt; stdio . h &gt; #include &lt;...</td>\n",
       "    </tr>\n",
       "    <tr>\n",
       "      <th>269870</th>\n",
       "      <td>13964948</td>\n",
       "      <td>C/C++</td>\n",
       "      <td>&lt; stdio . h &gt; #include &lt; string . h &gt; #include...</td>\n",
       "    </tr>\n",
       "  </tbody>\n",
       "</table>\n",
       "</div>"
      ],
      "text/plain": [
       "              id   lang                                               text\n",
       "269867  13964927  C/C++  < stdio . h > int n t a [ #LONGNUM# ] sum = #L...\n",
       "269868  13964931  C/C++  < bits using namespace std ; int main ( ) { lo...\n",
       "269869  13964942  C/C++  < iostream > #include < stdio . h > #include <...\n",
       "269870  13964948  C/C++  < stdio . h > #include < string . h > #include..."
      ]
     },
     "metadata": {},
     "output_type": "display_data"
    },
    {
     "name": "stdout",
     "output_type": "stream",
     "text": [
      "done!\n",
      "===========================\n",
      "\n",
      "\n",
      " COMBINED DATAFRAME\n",
      "===========================\n"
     ]
    },
    {
     "data": {
      "text/html": [
       "<div>\n",
       "<style scoped>\n",
       "    .dataframe tbody tr th:only-of-type {\n",
       "        vertical-align: middle;\n",
       "    }\n",
       "\n",
       "    .dataframe tbody tr th {\n",
       "        vertical-align: top;\n",
       "    }\n",
       "\n",
       "    .dataframe thead th {\n",
       "        text-align: right;\n",
       "    }\n",
       "</style>\n",
       "<table border=\"1\" class=\"dataframe\">\n",
       "  <thead>\n",
       "    <tr style=\"text-align: right;\">\n",
       "      <th></th>\n",
       "      <th>id</th>\n",
       "      <th>lang</th>\n",
       "      <th>text</th>\n",
       "    </tr>\n",
       "  </thead>\n",
       "  <tbody>\n",
       "    <tr>\n",
       "      <th>269867</th>\n",
       "      <td>13964927</td>\n",
       "      <td>C/C++</td>\n",
       "      <td>&lt; stdio . h &gt; int n t a [ #LONGNUM# ] sum = #L...</td>\n",
       "    </tr>\n",
       "    <tr>\n",
       "      <th>269868</th>\n",
       "      <td>13964931</td>\n",
       "      <td>C/C++</td>\n",
       "      <td>&lt; bits using namespace std ; int main ( ) { lo...</td>\n",
       "    </tr>\n",
       "    <tr>\n",
       "      <th>269869</th>\n",
       "      <td>13964942</td>\n",
       "      <td>C/C++</td>\n",
       "      <td>&lt; iostream &gt; #include &lt; stdio . h &gt; #include &lt;...</td>\n",
       "    </tr>\n",
       "    <tr>\n",
       "      <th>269870</th>\n",
       "      <td>13964948</td>\n",
       "      <td>C/C++</td>\n",
       "      <td>&lt; stdio . h &gt; #include &lt; string . h &gt; #include...</td>\n",
       "    </tr>\n",
       "  </tbody>\n",
       "</table>\n",
       "</div>"
      ],
      "text/plain": [
       "              id   lang                                               text\n",
       "269867  13964927  C/C++  < stdio . h > int n t a [ #LONGNUM# ] sum = #L...\n",
       "269868  13964931  C/C++  < bits using namespace std ; int main ( ) { lo...\n",
       "269869  13964942  C/C++  < iostream > #include < stdio . h > #include <...\n",
       "269870  13964948  C/C++  < stdio . h > #include < string . h > #include..."
      ]
     },
     "metadata": {},
     "output_type": "display_data"
    },
    {
     "name": "stdout",
     "output_type": "stream",
     "text": [
      "data types:\n",
      "====================\n"
     ]
    },
    {
     "data": {
      "text/plain": [
       "id      object\n",
       "lang    object\n",
       "text    object\n",
       "dtype: object"
      ]
     },
     "metadata": {},
     "output_type": "display_data"
    },
    {
     "name": "stdout",
     "output_type": "stream",
     "text": [
      "null values check:\n",
      "====================\n"
     ]
    },
    {
     "data": {
      "text/plain": [
       "text    0\n",
       "lang    0\n",
       "id      0\n",
       "dtype: int64"
      ]
     },
     "metadata": {},
     "output_type": "display_data"
    },
    {
     "name": "stdout",
     "output_type": "stream",
     "text": [
      "lang value counts: 787272\n",
      "====================\n",
      "NL            517401\n",
      "C/C++         240942\n",
      "Java           14852\n",
      "Python          7150\n",
      "Pascal          3688\n",
      "C#              1505\n",
      "Scala            377\n",
      "Haskell          363\n",
      "Ruby             318\n",
      "JavaScript       147\n",
      "PHP              147\n",
      "Perl             143\n",
      "Go               142\n",
      "Ocaml             63\n",
      "D                 34\n",
      "Name: lang, dtype: int64\n"
     ]
    },
    {
     "data": {
      "image/png": "[encoded data removed]",
      "text/plain": [
       "<Figure size 432x288 with 1 Axes>"
      ]
     },
     "metadata": {},
     "output_type": "display_data"
    },
    {
     "name": "stdout",
     "output_type": "stream",
     "text": [
      "done!\n",
      "===========================\n"
     ]
    }
   ],
   "source": [
    "# -- combine datasets --\n",
    "\n",
    "def concatDfs():\n",
    "    \n",
    "    print('Arranging dataframes:')\n",
    "    print('===========================')\n",
    "    df = display(df_ernon.tail(2))\n",
    "    df = display(df_codes.tail(2))\n",
    "\n",
    "    df_mail1 = df_ernon\n",
    "    df_mail1 = df_mail1.drop(columns=['message'])\n",
    "    df_mail1 = df_mail1.rename(index=int, columns={'file':'id', 'body':'text'})\n",
    "    df_mail1['lang']='NL'\n",
    "    df_codes1 = df_codes.rename(index=int, columns={'source':'text'})\n",
    "\n",
    "    display(df_mail1.tail(4))\n",
    "    display(df_codes1.tail(4))\n",
    "    print('done!')\n",
    "    print('===========================')\n",
    "    \n",
    "    # concat fd's\n",
    "    print('\\n\\n COMBINED DATAFRAME')\n",
    "    print('===========================')\n",
    "    df = pd.concat([df_mail1, df_codes1])\n",
    "    \n",
    "    display(df.tail(4))\n",
    "\n",
    "    print('data types:\\n====================')\n",
    "    display(df.dtypes)\n",
    "\n",
    "    print('null values check:\\n====================')\n",
    "    display(df.isnull().sum().sort_values(ascending=False))\n",
    "\n",
    "    valc = df['lang'].value_counts()\n",
    "    print('lang value counts: {}\\n====================\\n{}'.format(valc.sum(), valc))\n",
    "\n",
    "    df['lang'].value_counts().plot(kind='bar', log='true')\n",
    "    plt.xticks(rotation='vertical')\n",
    "    plt.tight_layout()\n",
    "    plt.show()\n",
    "    print('done!')\n",
    "    print('===========================')\n",
    "    return df\n",
    " \n",
    "df = concatDfs()\n"
   ]
  },
  {
   "cell_type": "code",
   "execution_count": 10,
   "metadata": {},
   "outputs": [],
   "source": [
    "\n",
    "def save_complete_ds_csv(df):      \n",
    "    # save to csv\n",
    "    print('\\n\\nSaving complete dataset to csv...')\n",
    "    DS_FILENAME = 'complete_dataset.csv'\n",
    "    with open(DS_FILENAME, mode='w+', encoding='utf-8') as f:\n",
    "        df.to_csv(f, mode='w+', index=False, header=True)\n",
    "        print('done!')\n",
    "\n",
    "#save_complete_ds_csv(df)  "
   ]
  },
  {
   "cell_type": "markdown",
   "metadata": {},
   "source": [
    "# Continue in notebook 2"
   ]
  },
  {
   "cell_type": "code",
   "execution_count": null,
   "metadata": {},
   "outputs": [],
   "source": []
  }
 ],
 "metadata": {
  "kernelspec": {
   "display_name": "Python 3",
   "language": "python",
   "name": "python3"
  },
  "language_info": {
   "codemirror_mode": {
    "name": "ipython",
    "version": 3
   },
   "file_extension": ".py",
   "mimetype": "text/x-python",
   "name": "python",
   "nbconvert_exporter": "python",
   "pygments_lexer": "ipython3",
   "version": "3.6.5"
  }
 },
 "nbformat": 4,
 "nbformat_minor": 2
}
